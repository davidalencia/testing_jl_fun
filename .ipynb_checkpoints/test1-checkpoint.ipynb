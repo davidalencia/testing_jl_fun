{
 "cells": [
  {
   "cell_type": "code",
   "execution_count": 1,
   "id": "9f0d6d3c-524d-4686-b57f-bf83c73b2c35",
   "metadata": {},
   "outputs": [
    {
     "name": "stdout",
     "output_type": "stream",
     "text": [
      "search: \u001b[0m\u001b[1mR\u001b[22m\u001b[0m\u001b[1mo\u001b[22m\u001b[0m\u001b[1mu\u001b[22m\u001b[0m\u001b[1mn\u001b[22m\u001b[0m\u001b[1md\u001b[22m\u001b[0m\u001b[1mi\u001b[22m\u001b[0m\u001b[1mn\u001b[22m\u001b[0m\u001b[1mg\u001b[22m\u001b[0m\u001b[1mM\u001b[22m\u001b[0m\u001b[1mo\u001b[22m\u001b[0m\u001b[1md\u001b[22m\u001b[0m\u001b[1me\u001b[22m\n",
      "\n"
     ]
    },
    {
     "data": {
      "text/latex": [
       "\\begin{verbatim}\n",
       "RoundingMode\n",
       "\\end{verbatim}\n",
       "A type used for controlling the rounding mode of floating point operations (via \\href{@ref}{\\texttt{rounding}}/\\href{@ref}{\\texttt{setrounding}} functions), or as optional arguments for rounding to the nearest integer (via the \\href{@ref}{\\texttt{round}} function).\n",
       "\n",
       "Currently supported rounding modes are:\n",
       "\n",
       "\\begin{itemize}\n",
       "\\item \\href{@ref}{\\texttt{RoundNearest}} (default)\n",
       "\n",
       "\n",
       "\\item \\href{@ref}{\\texttt{RoundNearestTiesAway}}\n",
       "\n",
       "\n",
       "\\item \\href{@ref}{\\texttt{RoundNearestTiesUp}}\n",
       "\n",
       "\n",
       "\\item \\href{@ref}{\\texttt{RoundToZero}}\n",
       "\n",
       "\n",
       "\\item \\href{@ref}{\\texttt{RoundFromZero}} (\\href{@ref}{\\texttt{BigFloat}} only)\n",
       "\n",
       "\n",
       "\\item \\href{@ref}{\\texttt{RoundUp}}\n",
       "\n",
       "\n",
       "\\item \\href{@ref}{\\texttt{RoundDown}}\n",
       "\n",
       "\\end{itemize}\n"
      ],
      "text/markdown": [
       "```\n",
       "RoundingMode\n",
       "```\n",
       "\n",
       "A type used for controlling the rounding mode of floating point operations (via [`rounding`](@ref)/[`setrounding`](@ref) functions), or as optional arguments for rounding to the nearest integer (via the [`round`](@ref) function).\n",
       "\n",
       "Currently supported rounding modes are:\n",
       "\n",
       "  * [`RoundNearest`](@ref) (default)\n",
       "  * [`RoundNearestTiesAway`](@ref)\n",
       "  * [`RoundNearestTiesUp`](@ref)\n",
       "  * [`RoundToZero`](@ref)\n",
       "  * [`RoundFromZero`](@ref) ([`BigFloat`](@ref) only)\n",
       "  * [`RoundUp`](@ref)\n",
       "  * [`RoundDown`](@ref)\n"
      ],
      "text/plain": [
       "\u001b[36m  RoundingMode\u001b[39m\n",
       "\n",
       "  A type used for controlling the rounding mode of floating point operations\n",
       "  (via \u001b[36mrounding\u001b[39m/\u001b[36msetrounding\u001b[39m functions), or as optional arguments for rounding\n",
       "  to the nearest integer (via the \u001b[36mround\u001b[39m function).\n",
       "\n",
       "  Currently supported rounding modes are:\n",
       "\n",
       "    •  \u001b[36mRoundNearest\u001b[39m (default)\n",
       "\n",
       "    •  \u001b[36mRoundNearestTiesAway\u001b[39m\n",
       "\n",
       "    •  \u001b[36mRoundNearestTiesUp\u001b[39m\n",
       "\n",
       "    •  \u001b[36mRoundToZero\u001b[39m\n",
       "\n",
       "    •  \u001b[36mRoundFromZero\u001b[39m (\u001b[36mBigFloat\u001b[39m only)\n",
       "\n",
       "    •  \u001b[36mRoundUp\u001b[39m\n",
       "\n",
       "    •  \u001b[36mRoundDown\u001b[39m"
      ]
     },
     "execution_count": 1,
     "metadata": {},
     "output_type": "execute_result"
    }
   ],
   "source": [
    "?RoundingMode"
   ]
  },
  {
   "cell_type": "code",
   "execution_count": 7,
   "id": "117fda37-4d58-4224-bb98-70c218acd276",
   "metadata": {},
   "outputs": [
    {
     "data": {
      "text/plain": [
       "from_llvm (generic function with 1 method)"
      ]
     },
     "execution_count": 7,
     "metadata": {},
     "output_type": "execute_result"
    }
   ],
   "source": [
    "function from_llvm(x::Int32)\n",
    "           if x==0\n",
    "               return RoundToZero\n",
    "           elseif x == 1\n",
    "               return RoundNearest\n",
    "           elseif x == 2\n",
    "               return RoundUp\n",
    "           elseif x == 3\n",
    "               return RoundDown\n",
    "           elseif x == 4\n",
    "               return RoundNearestTiesAway\n",
    "           else \n",
    "               @error \"Undefined behavior\"\n",
    "           end\n",
    "       end "
   ]
  },
  {
   "cell_type": "code",
   "execution_count": 28,
   "id": "d9d36586-f061-48cf-a8be-8ff7a2b17700",
   "metadata": {},
   "outputs": [
    {
     "data": {
      "text/plain": [
       "to_llvm (generic function with 5 methods)"
      ]
     },
     "execution_count": 28,
     "metadata": {},
     "output_type": "execute_result"
    }
   ],
   "source": [
    "to_llvm(::RoundingMode{:ToZero}) = 0\n",
    "to_llvm(::RoundingMode{:Nearest}) = 1\n",
    "to_llvm(::RoundingMode{:Up}) = 2\n",
    "to_llvm(::RoundingMode{:Down}) = 3\n",
    "to_llvm(::RoundingMode{:NearestTiesAway}) = 4"
   ]
  },
  {
   "cell_type": "code",
   "execution_count": 12,
   "id": "3f68683d-c315-4bef-942c-5f89272343fc",
   "metadata": {},
   "outputs": [
    {
     "data": {
      "text/plain": [
       "llvm_rounding (generic function with 1 method)"
      ]
     },
     "execution_count": 12,
     "metadata": {},
     "output_type": "execute_result"
    }
   ],
   "source": [
    "llvm_rounding() = from_llvm(ccall(\"llvm.flt.rounds\", llvmcall, Int32, () ))"
   ]
  },
  {
   "cell_type": "code",
   "execution_count": 13,
   "id": "9bb766dd-2379-45ba-bf9d-4be7f273b941",
   "metadata": {},
   "outputs": [
    {
     "data": {
      "text/plain": [
       "lvm_setrounding (generic function with 1 method)"
      ]
     },
     "execution_count": 13,
     "metadata": {},
     "output_type": "execute_result"
    }
   ],
   "source": [
    "lvm_setrounding(rounding::RoundingMode) = ccall(\"llvm.set.rounding\", llvmcall, Cvoid, (Int32, ), to_llvm(rounding))"
   ]
  },
  {
   "cell_type": "code",
   "execution_count": 121,
   "id": "457b7cfe-41ec-4adc-8388-8528d7265ee6",
   "metadata": {},
   "outputs": [
    {
     "data": {
      "text/plain": [
       "llvm_setrounding (generic function with 2 methods)"
      ]
     },
     "execution_count": 121,
     "metadata": {},
     "output_type": "execute_result"
    }
   ],
   "source": [
    "function llvm_setrounding(f::Function, rounding::RoundingMode)\n",
    "    old_rounding = RoundNearest#llvm_rounding()\n",
    "    llvm_setrounding(rounding)\n",
    "    try \n",
    "        return f()\n",
    "    finally \n",
    "        llvm_setrounding(old_rounding)\n",
    "    end\n",
    "end"
   ]
  },
  {
   "cell_type": "code",
   "execution_count": 95,
   "id": "74bc3657-ddf8-473d-961c-09617c5ef979",
   "metadata": {},
   "outputs": [
    {
     "name": "stdout",
     "output_type": "stream",
     "text": [
      "0.09999999999999999\n"
     ]
    }
   ],
   "source": [
    "llvm_setrounding(RoundDown) do \n",
    "    println(parse(Float64, \"0.1\"))\n",
    "end"
   ]
  },
  {
   "cell_type": "code",
   "execution_count": 85,
   "id": "1fe30ab5-01d3-43c8-ba5b-aedc44957974",
   "metadata": {},
   "outputs": [],
   "source": [
    "llvm_setrounding(RoundUp)"
   ]
  },
  {
   "cell_type": "code",
   "execution_count": 86,
   "id": "db989171-664e-4b39-8a7b-597ec8c57fa5",
   "metadata": {},
   "outputs": [
    {
     "data": {
      "text/plain": [
       "0.1"
      ]
     },
     "execution_count": 86,
     "metadata": {},
     "output_type": "execute_result"
    }
   ],
   "source": [
    "0.1"
   ]
  },
  {
   "cell_type": "code",
   "execution_count": 122,
   "id": "7f1d4d9c-af86-4e26-9d46-09c5185d9fb6",
   "metadata": {},
   "outputs": [
    {
     "data": {
      "text/plain": [
       "@down (macro with 1 method)"
      ]
     },
     "execution_count": 122,
     "metadata": {},
     "output_type": "execute_result"
    }
   ],
   "source": [
    "macro down(lit)\n",
    "    quote\n",
    "        llvm_setrounding(RoundDown) do \n",
    "            return (parse(Float64, $(\"$(lit)\")))\n",
    "        end\n",
    "    end\n",
    "end"
   ]
  },
  {
   "cell_type": "code",
   "execution_count": 125,
   "id": "e0b68789-c413-499a-a364-51d9c2781d11",
   "metadata": {},
   "outputs": [
    {
     "data": {
      "text/plain": [
       "0.19999999999999998"
      ]
     },
     "execution_count": 125,
     "metadata": {},
     "output_type": "execute_result"
    }
   ],
   "source": [
    "(@down 0.1) + (@down 0.1)"
   ]
  },
  {
   "cell_type": "code",
   "execution_count": 117,
   "id": "c94acaee-cd0a-475c-a0a6-ea4c3f4f09fb",
   "metadata": {},
   "outputs": [
    {
     "data": {
      "text/plain": [
       "0.1"
      ]
     },
     "execution_count": 117,
     "metadata": {},
     "output_type": "execute_result"
    }
   ],
   "source": [
    "0.1"
   ]
  },
  {
   "cell_type": "markdown",
   "id": "dbc9dc77-0075-4a32-8184-afdc600780eb",
   "metadata": {},
   "source": [
    "# TypeSafe macro"
   ]
  },
  {
   "cell_type": "code",
   "execution_count": 133,
   "id": "80769cf6-d6e9-4783-a1aa-c0348914f464",
   "metadata": {},
   "outputs": [
    {
     "data": {
      "text/plain": [
       "_setrounding (generic function with 1 method)"
      ]
     },
     "execution_count": 133,
     "metadata": {},
     "output_type": "execute_result"
    }
   ],
   "source": [
    "function _setrounding(rounding::RoundingMode, literal::Float64):Float64 \n",
    "    old_rounding = RoundNearest#llvm_rounding()\n",
    "    llvm_setrounding(rounding)\n",
    "    try \n",
    "        return parse(Float64, $(\"$(literal)\"))\n",
    "    finally \n",
    "        llvm_setrounding(old_rounding)\n",
    "    end\n",
    "end"
   ]
  },
  {
   "cell_type": "code",
   "execution_count": 134,
   "id": "4e5a7c05-1bd2-4a19-9bb3-71eae2c17e82",
   "metadata": {},
   "outputs": [
    {
     "name": "stdout",
     "output_type": "stream",
     "text": [
      "search: \u001b[0m\u001b[1m_\u001b[22m\u001b[0m\u001b[1ms\u001b[22m\u001b[0m\u001b[1me\u001b[22m\u001b[0m\u001b[1mt\u001b[22m\u001b[0m\u001b[1mr\u001b[22m\u001b[0m\u001b[1mo\u001b[22m\u001b[0m\u001b[1mu\u001b[22m\u001b[0m\u001b[1mn\u001b[22m\u001b[0m\u001b[1md\u001b[22m\u001b[0m\u001b[1mi\u001b[22m\u001b[0m\u001b[1mn\u001b[22m\u001b[0m\u001b[1mg\u001b[22m lvm\u001b[0m\u001b[1m_\u001b[22m\u001b[0m\u001b[1ms\u001b[22m\u001b[0m\u001b[1me\u001b[22m\u001b[0m\u001b[1mt\u001b[22m\u001b[0m\u001b[1mr\u001b[22m\u001b[0m\u001b[1mo\u001b[22m\u001b[0m\u001b[1mu\u001b[22m\u001b[0m\u001b[1mn\u001b[22m\u001b[0m\u001b[1md\u001b[22m\u001b[0m\u001b[1mi\u001b[22m\u001b[0m\u001b[1mn\u001b[22m\u001b[0m\u001b[1mg\u001b[22m llvm\u001b[0m\u001b[1m_\u001b[22m\u001b[0m\u001b[1ms\u001b[22m\u001b[0m\u001b[1me\u001b[22m\u001b[0m\u001b[1mt\u001b[22m\u001b[0m\u001b[1mr\u001b[22m\u001b[0m\u001b[1mo\u001b[22m\u001b[0m\u001b[1mu\u001b[22m\u001b[0m\u001b[1mn\u001b[22m\u001b[0m\u001b[1md\u001b[22m\u001b[0m\u001b[1mi\u001b[22m\u001b[0m\u001b[1mn\u001b[22m\u001b[0m\u001b[1mg\u001b[22m\n",
      "\n"
     ]
    },
    {
     "data": {
      "text/latex": [
       "No documentation found.\n",
       "\n",
       "\\texttt{\\_setrounding} is a \\texttt{Function}.\n",
       "\n",
       "\\begin{verbatim}\n",
       "# 1 method for generic function \"_setrounding\":\n",
       "[1] _setrounding(rounding::RoundingMode, literal::Float64) in Main at In[133]:1\n",
       "\\end{verbatim}\n"
      ],
      "text/markdown": [
       "No documentation found.\n",
       "\n",
       "`_setrounding` is a `Function`.\n",
       "\n",
       "```\n",
       "# 1 method for generic function \"_setrounding\":\n",
       "[1] _setrounding(rounding::RoundingMode, literal::Float64) in Main at In[133]:1\n",
       "```\n"
      ],
      "text/plain": [
       "  No documentation found.\n",
       "\n",
       "  \u001b[36m_setrounding\u001b[39m is a \u001b[36mFunction\u001b[39m.\n",
       "\n",
       "\u001b[36m  # 1 method for generic function \"_setrounding\":\u001b[39m\n",
       "\u001b[36m  [1] _setrounding(rounding::RoundingMode, literal::Float64) in Main at In[133]:1\u001b[39m"
      ]
     },
     "execution_count": 134,
     "metadata": {},
     "output_type": "execute_result"
    }
   ],
   "source": [
    "?_setrounding"
   ]
  },
  {
   "cell_type": "code",
   "execution_count": null,
   "id": "e37c3d80-6bf0-4de3-b4ef-08e898e82ec1",
   "metadata": {},
   "outputs": [],
   "source": []
  }
 ],
 "metadata": {
  "kernelspec": {
   "display_name": "Julia 1.8.2",
   "language": "julia",
   "name": "julia-1.8"
  },
  "language_info": {
   "file_extension": ".jl",
   "mimetype": "application/julia",
   "name": "julia",
   "version": "1.8.2"
  }
 },
 "nbformat": 4,
 "nbformat_minor": 5
}
