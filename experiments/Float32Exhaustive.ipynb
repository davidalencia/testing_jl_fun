{
 "cells": [
  {
   "cell_type": "code",
   "execution_count": 1,
   "id": "c7b4b03b-51fa-4586-b935-1667bf162080",
   "metadata": {},
   "outputs": [
    {
     "name": "stderr",
     "output_type": "stream",
     "text": [
      "\u001b[32m\u001b[1m  Activating\u001b[22m\u001b[39m project at `~/Documents/Academia/taylor/ElementalFunctionsTests`\n",
      "\u001b[36m\u001b[1m[ \u001b[22m\u001b[39m\u001b[36m\u001b[1mInfo: \u001b[22m\u001b[39mPrecompiling ElementalFunctionsTests [d4cb4dc5-4b71-4e54-85a0-20ff967ef3c3]\n"
     ]
    }
   ],
   "source": [
    "using Pkg\n",
    "Pkg.activate(\"..\")\n",
    "using ElementalFunctionsTests"
   ]
  },
  {
   "cell_type": "code",
   "execution_count": 2,
   "id": "38310f2d-7a91-4c84-bed7-ea87668a8f47",
   "metadata": {},
   "outputs": [],
   "source": [
    "using ProgressMeter\n",
    "using JSON\n",
    "using Printf"
   ]
  },
  {
   "cell_type": "code",
   "execution_count": 3,
   "id": "86fbe8c7-1b23-44ac-8df8-552f9c38a927",
   "metadata": {},
   "outputs": [],
   "source": [
    "JSON.lower(e::Error32) =Dict(:x=>@sprintf(\"%a\", e.x), :err=>e.err)"
   ]
  },
  {
   "cell_type": "code",
   "execution_count": 4,
   "id": "2c252c8d-84c7-42bc-b0a3-aa6cc047fab9",
   "metadata": {},
   "outputs": [
    {
     "data": {
      "text/plain": [
       "Any[]"
      ]
     },
     "execution_count": 4,
     "metadata": {},
     "output_type": "execute_result"
    }
   ],
   "source": [
    "const r = range(-2, 2, length=41)\n",
    "errors = []"
   ]
  },
  {
   "cell_type": "code",
   "execution_count": 5,
   "id": "6afdb1ae-70f1-4577-bd56-2fb357a4014d",
   "metadata": {},
   "outputs": [
    {
     "name": "stderr",
     "output_type": "stream",
     "text": [
      "\u001b[32mcos 100%|██████████████████████████████████| Time: 5:59:10 ( 5.04 μs/it)\u001b[39mm\n",
      "\u001b[32msin 100%|██████████████████████████████████| Time: 4:05:52 ( 3.45 μs/it)\u001b[39m\n",
      "\u001b[32mtan 100%|██████████████████████████████████| Time: 4:17:38 ( 3.61 μs/it)\u001b[39m\n",
      "\u001b[32mcospi 100%|████████████████████████████████| Time: 3:25:29 ( 2.88 μs/it)\u001b[39m\n",
      "\u001b[32msinpi 100%|████████████████████████████████| Time: 3:43:13 ( 3.13 μs/it)\u001b[39m\n",
      "\u001b[32macos 100%|█████████████████████████████████| Time: 2:25:58 ( 2.05 μs/it)\u001b[39m\n",
      "\u001b[32masin 100%|█████████████████████████████████| Time: 2:13:10 ( 1.87 μs/it)\u001b[39m\n",
      "\u001b[32matan 100%|█████████████████████████████████| Time: 3:47:50 ( 3.20 μs/it)\u001b[39m\n",
      "\u001b[32mcsc 100%|██████████████████████████████████| Time: 4:22:52 ( 3.69 μs/it)\u001b[39m\n",
      "\u001b[32msec 100%|██████████████████████████████████| Time: 3:59:47 ( 3.36 μs/it)\u001b[39m\n",
      "\u001b[32mcot 100%|██████████████████████████████████| Time: 4:46:28 ( 4.02 μs/it)\u001b[39m\n",
      "\u001b[32mcosh 100%|█████████████████████████████████| Time: 3:36:30 ( 3.04 μs/it)\u001b[39m\n",
      "\u001b[32msinh 100%|█████████████████████████████████| Time: 3:40:31 ( 3.09 μs/it)\u001b[39m\n",
      "\u001b[32mtanh 100%|█████████████████████████████████| Time: 3:41:41 ( 3.11 μs/it)\u001b[39m\n",
      "\u001b[32macosh 100%|████████████████████████████████| Time: 2:14:21 ( 1.88 μs/it)\u001b[39m\n",
      "\u001b[32masinh 100%|████████████████████████████████| Time: 6:44:48 ( 5.68 μs/it)\u001b[39m\n",
      "\u001b[32matanh 100%|████████████████████████████████| Time: 2:07:41 ( 1.79 μs/it)\u001b[39m\n",
      "\u001b[32mexp 100%|██████████████████████████████████| Time: 3:18:23 ( 2.78 μs/it)\u001b[39m\n",
      "\u001b[32mexpm1 100%|████████████████████████████████| Time: 3:22:18 ( 2.84 μs/it)\u001b[39m\n",
      "\u001b[32mexp2 100%|█████████████████████████████████| Time: 3:16:42 ( 2.76 μs/it)\u001b[39m\n",
      "\u001b[32mexp10 100%|████████████████████████████████| Time: 4:36:27 ( 3.88 μs/it)\u001b[39m\n",
      "\u001b[32mlog 100%|██████████████████████████████████| Time: 3:09:52 ( 2.66 μs/it)\u001b[39m\n",
      "\u001b[32mlog2 100%|█████████████████████████████████| Time: 3:25:07 ( 2.88 μs/it)\u001b[39m\n",
      "\u001b[32mlog10 100%|████████████████████████████████| Time: 4:23:24 ( 3.69 μs/it)\u001b[39m\n",
      "\u001b[32mlog1p 100%|████████████████████████████████| Time: 3:25:30 ( 2.88 μs/it)\u001b[39m\n"
     ]
    }
   ],
   "source": [
    "for f in mpfrfunctions\n",
    "    x = nextfloat(-Inf32)\n",
    "    maxerror = Error32(0.0, 0.0)\n",
    "    h = buckets(r)\n",
    "    \n",
    "    f_c = eval(:(@cfunction($f, Cfloat, (Cfloat,))))\n",
    "    f_mpfr = mpfrfun(string(f))\n",
    "    dom = domain(Symbol(f))\n",
    "    prog = Progress(4278190078, showspeed=true, dt=2.0, desc=string(f))\n",
    "    sum=0    # To store sum of stream \n",
    "    sumsq=0  # To store sum of square of stream \n",
    "    n=0   \n",
    "\n",
    "    \n",
    "    while(!isinf(x))\n",
    "        next!(prog)\n",
    "        if x < dom[1]\n",
    "            x = nextfloat(x)\n",
    "            continue\n",
    "        elseif x > dom[2]\n",
    "            break;\n",
    "        end\n",
    "        \n",
    "        err = ulperror32(f_c, f_mpfr, x)\n",
    "        add2bucket!(h, r, err)\n",
    "        abserr = abs(err)\n",
    "        n+=1\n",
    "        sum+=abserr\n",
    "        sumsq+=(abserr*abserr) \n",
    "        \n",
    "        if abs(err)>abs(maxerror.err)\n",
    "          maxerror = Error32(x, err)\n",
    "        end\n",
    "        x = nextfloat(x)\n",
    "    end\n",
    "\n",
    "    mean = sum/n \n",
    "    var = (sumsq/n) - (mean*mean) \n",
    "    \n",
    "    finish!(prog)\n",
    "    \n",
    "    push!(errors, TestsResults(Symbol(f),r,h, maxerror, 0, mean, var))\n",
    "    open(\"Float32Errors.json\",\"w\") do f\n",
    "      write(f, JSON.json(errors))\n",
    "    end\n",
    "    \n",
    "end"
   ]
  },
  {
   "cell_type": "code",
   "execution_count": null,
   "id": "0ff7c69b-5ace-4a9d-9aac-af864124ce31",
   "metadata": {},
   "outputs": [],
   "source": []
  }
 ],
 "metadata": {
  "kernelspec": {
   "display_name": "Julia 1.9.0",
   "language": "julia",
   "name": "julia-1.9"
  },
  "language_info": {
   "file_extension": ".jl",
   "mimetype": "application/julia",
   "name": "julia",
   "version": "1.9.0"
  }
 },
 "nbformat": 4,
 "nbformat_minor": 5
}
