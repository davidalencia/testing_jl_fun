{
 "cells": [
  {
   "cell_type": "code",
   "execution_count": 3,
   "id": "c7b4b03b-51fa-4586-b935-1667bf162080",
   "metadata": {},
   "outputs": [
    {
     "name": "stderr",
     "output_type": "stream",
     "text": [
      "\u001b[32m\u001b[1m  Activating\u001b[22m\u001b[39m project at `~/Documents/Academia/taylor/ElementalFunctionsTests`\n"
     ]
    }
   ],
   "source": [
    "using Pkg\n",
    "Pkg.activate(\"..\")\n",
    "using ElementalFunctionsTests"
   ]
  },
  {
   "cell_type": "code",
   "execution_count": 4,
   "id": "8524c159-abf2-47ef-ac0b-84f4353233e9",
   "metadata": {},
   "outputs": [],
   "source": [
    "using ProgressMeter\n",
    "using JLD2"
   ]
  },
  {
   "cell_type": "code",
   "execution_count": 3,
   "id": "106a4582-4508-4955-8208-896cde7855db",
   "metadata": {},
   "outputs": [
    {
     "data": {
      "text/plain": [
       "buckets (generic function with 1 method)"
      ]
     },
     "execution_count": 3,
     "metadata": {},
     "output_type": "execute_result"
    }
   ],
   "source": [
    "function buckets(r) \n",
    "    return zeros(r.len-1)\n",
    "end"
   ]
  },
  {
   "cell_type": "code",
   "execution_count": 4,
   "id": "d5e882c0-a03b-4ffe-ade7-f356287a4cc0",
   "metadata": {},
   "outputs": [
    {
     "data": {
      "text/plain": [
       "add2bucket! (generic function with 1 method)"
      ]
     },
     "execution_count": 4,
     "metadata": {},
     "output_type": "execute_result"
    }
   ],
   "source": [
    "function add2bucket!(h, r, x)\n",
    "  if x<r[1] || abs(x) == 0;\n",
    "    return\n",
    "  end\n",
    "  for i in 2:r.len\n",
    "    if x<r[i] \n",
    "      h[i-1]+=1\n",
    "      return\n",
    "    end\n",
    "  end\n",
    "end"
   ]
  },
  {
   "cell_type": "code",
   "execution_count": 5,
   "id": "2c252c8d-84c7-42bc-b0a3-aa6cc047fab9",
   "metadata": {},
   "outputs": [
    {
     "data": {
      "text/plain": [
       "Any[]"
      ]
     },
     "execution_count": 5,
     "metadata": {},
     "output_type": "execute_result"
    }
   ],
   "source": [
    "const r = range(-2, 2, length=41)\n",
    "errors = []"
   ]
  },
  {
   "cell_type": "code",
   "execution_count": 16,
   "id": "6afdb1ae-70f1-4577-bd56-2fb357a4014d",
   "metadata": {},
   "outputs": [
    {
     "name": "stderr",
     "output_type": "stream",
     "text": [
      "\u001b[32mcos 100%|██████████████████████████████████| Time: 4:19:18 ( 3.64 μs/it)\u001b[39m\n",
      "\u001b[32msin 100%|██████████████████████████████████| Time: 4:35:16 ( 3.86 μs/it)\u001b[39m\n",
      "\u001b[32mtan 100%|██████████████████████████████████| Time: 4:53:32 ( 4.12 μs/it)\u001b[39m\n",
      "\u001b[32mcospi 100%|████████████████████████████████| Time: 3:37:54 ( 3.06 μs/it)\u001b[39m\n",
      "\u001b[32msinpi 100%|████████████████████████████████| Time: 6:58:04 ( 5.86 μs/it)\u001b[39mm\n",
      "\u001b[32macos 100%|█████████████████████████████████| Time: 3:04:00 ( 2.58 μs/it)\u001b[39m\n",
      "\u001b[32masin 100%|█████████████████████████████████| Time: 2:37:08 ( 2.20 μs/it)\u001b[39m\n",
      "\u001b[32matan 100%|█████████████████████████████████| Time: 4:27:16 ( 3.75 μs/it)\u001b[39m\n",
      "\u001b[32mcsc 100%|██████████████████████████████████| Time: 4:54:15 ( 4.13 μs/it)\u001b[39m\n",
      "\u001b[32msec 100%|██████████████████████████████████| Time: 4:30:06 ( 3.79 μs/it)\u001b[39m\n",
      "\u001b[32mcot 100%|██████████████████████████████████| Time: 5:27:52 ( 4.60 μs/it)\u001b[39m\n",
      "\u001b[32mcosh 100%|█████████████████████████████████| Time: 3:48:36 ( 3.21 μs/it)\u001b[39m\n",
      "\u001b[32msinh 100%|█████████████████████████████████| Time: 3:48:56 ( 3.21 μs/it)\u001b[39m\n",
      "\u001b[32mtanh 100%|█████████████████████████████████| Time: 4:00:46 ( 3.38 μs/it)\u001b[39m\n",
      "\u001b[32macosh 100%|████████████████████████████████| Time: 2:25:17 ( 2.04 μs/it)\u001b[39m\n",
      "\u001b[32masinh 100%|████████████████████████████████| Time: 10:08:37 ( 8.54 μs/it)\u001b[39m\n",
      "\u001b[32matanh 100%|████████████████████████████████| Time: 2:27:58 ( 2.08 μs/it)\u001b[39m\n",
      "\u001b[32mexp 100%|██████████████████████████████████| Time: 3:46:16 ( 3.17 μs/it)\u001b[39m\n",
      "\u001b[32mexpm1 100%|████████████████████████████████| Time: 4:14:04 ( 3.56 μs/it)\u001b[39m\n",
      "\u001b[32mexp2 100%|█████████████████████████████████| Time: 3:36:52 ( 3.04 μs/it)\u001b[39m\n",
      "\u001b[32mexp10 100%|████████████████████████████████| Time: 5:35:56 ( 4.71 μs/it)\u001b[39m\n",
      "\u001b[32mlog 100%|██████████████████████████████████| Time: 3:30:29 ( 2.95 μs/it)\u001b[39m\n",
      "\u001b[32mlog2 100%|█████████████████████████████████| Time: 3:47:51 ( 3.20 μs/it)\u001b[39m\n",
      "\u001b[32mlog10 100%|████████████████████████████████| Time: 5:09:20 ( 4.34 μs/it)\u001b[39m\n",
      "\u001b[32mlog1p 100%|████████████████████████████████| Time: 3:48:08 ( 3.20 μs/it)\u001b[39m\n"
     ]
    }
   ],
   "source": [
    "for f in mpfrfunctions\n",
    "    x = nextfloat(-Inf32)\n",
    "    maxerror = ElementalFunctionsTests.Error(0.0, 0.0)\n",
    "    h = buckets(r)\n",
    "    \n",
    "    f_c = eval(:(@cfunction($f, Cfloat, (Cfloat,))))\n",
    "    f_mpfr = mpfrfun(string(f))\n",
    "\n",
    "    dom = domain(Symbol(f))\n",
    "    \n",
    "    prog = Progress(4278190078, showspeed=true, dt=1.0, desc=string(f))\n",
    "\n",
    "    while(!isinf(x))\n",
    "        next!(prog)\n",
    "        \n",
    "        if x < dom[1]\n",
    "            x = nextfloat(x)\n",
    "            continue\n",
    "        elseif x > dom[2]\n",
    "            break;\n",
    "        end\n",
    "\n",
    "        err = ulperror32(f_c, f_mpfr, x)\n",
    "        add2bucket!(h, r, err)\n",
    "        if err>maxerror.err\n",
    "          maxerror = ElementalFunctionsTests.Error(x, err)\n",
    "        end\n",
    "        x = nextfloat(x)\n",
    "    end\n",
    "    finish!(prog)\n",
    "    push!(errors, TestsResults(Symbol(f),r,h, maxerror, 0))\n",
    "    @save \"float32results.jld2\" errors\n",
    "end"
   ]
  },
  {
   "cell_type": "code",
   "execution_count": 27,
   "id": "9becac36-ebf3-4252-9509-4dff8b876dc3",
   "metadata": {},
   "outputs": [
    {
     "data": {
      "text/plain": [
       "25-element Vector{Tuple{Symbol, ElementalFunctionsTests.Error}}:\n",
       " (:cos, ElementalFunctionsTests.Error(-1.2022152174610467e32, 0.5008998416089551))\n",
       " (:sin, ElementalFunctionsTests.Error(-2.5760141952836207e31, 0.5009001286718487))\n",
       " (:tan, ElementalFunctionsTests.Error(-6.4672178176e10, 0.7998569047278248))\n",
       " (:cospi, ElementalFunctionsTests.Error(-0.23761744797229767, 0.5008956949810429))\n",
       " (:sinpi, ElementalFunctionsTests.Error(-0.43150874972343445, 0.5008975906249855))\n",
       " (:acos, ElementalFunctionsTests.Error(-0.5320551991462708, 0.8987813930645389))\n",
       " (:asin, ElementalFunctionsTests.Error(-0.5007328391075134, 0.7298913713207066))\n",
       " (:atan, ElementalFunctionsTests.Error(0.692195475101471, 0.8521076359054892))\n",
       " (:csc, ElementalFunctionsTests.Error(1.7658314e7, 1.4980947537083138))\n",
       " (:sec, ElementalFunctionsTests.Error(-1.0322423130356704e34, 1.4972213015214857))\n",
       " (:cot, ElementalFunctionsTests.Error(-4.2137537847292745e34, 1.7966313621503505))\n",
       " (:cosh, ElementalFunctionsTests.Error(-89.4159927368164, 20.0))\n",
       " (:sinh, ElementalFunctionsTests.Error(-89.4159927368164, 20.0))\n",
       " (:tanh, ElementalFunctionsTests.Error(-0.12551045417785645, 1.3663689677246504))\n",
       " (:acosh, ElementalFunctionsTests.Error(1.007747769355774, 1.9944941297023218))\n",
       " (:asinh, ElementalFunctionsTests.Error(-0.12024340778589249, 1.5277680587660516))\n",
       " (:atanh, ElementalFunctionsTests.Error(0.007794111501425505, 1.94113871170587))\n",
       " (:exp, ElementalFunctionsTests.Error(-1.048576e6, Inf))\n",
       " (:expm1, ElementalFunctionsTests.Error(0.24249957501888275, 0.5153432062290424))\n",
       " (:exp2, ElementalFunctionsTests.Error(-1.048576e6, Inf))\n",
       " (:exp10, ElementalFunctionsTests.Error(-1.048576e6, Inf))\n",
       " (:log, ElementalFunctionsTests.Error(1.0899029970169067, 0.5484627656377997))\n",
       " (:log2, ElementalFunctionsTests.Error(1.0814512968063354, 0.5707293911496567))\n",
       " (:log10, ElementalFunctionsTests.Error(1.0660604238510132, 0.5850974575035044))\n",
       " (:log1p, ElementalFunctionsTests.Error(0.09037893265485764, 0.5584597686710621))"
      ]
     },
     "execution_count": 27,
     "metadata": {},
     "output_type": "execute_result"
    }
   ],
   "source": [
    "map(x->(x.f, x.maxError), errors)"
   ]
  },
  {
   "cell_type": "code",
   "execution_count": 5,
   "id": "6e56ab73-d184-468c-a837-b32ddc4c4705",
   "metadata": {},
   "outputs": [
    {
     "data": {
      "text/plain": [
       "1-element Vector{Symbol}:\n",
       " :errors"
      ]
     },
     "execution_count": 5,
     "metadata": {},
     "output_type": "execute_result"
    }
   ],
   "source": [
    "@load \"float32results.jld2\""
   ]
  },
  {
   "cell_type": "code",
   "execution_count": 19,
   "id": "0dd0bd2f-f18a-4bff-9967-0c5a21970f73",
   "metadata": {},
   "outputs": [
    {
     "data": {
      "text/plain": [
       "-89.41599f0"
      ]
     },
     "execution_count": 19,
     "metadata": {},
     "output_type": "execute_result"
    }
   ],
   "source": [
    "Float32(errors[12].maxError.x)"
   ]
  },
  {
   "cell_type": "code",
   "execution_count": 20,
   "id": "3969719c-d3b2-4c41-9f9b-d282525bdcbb",
   "metadata": {},
   "outputs": [
    {
     "data": {
      "text/plain": [
       "-89.4159927368164"
      ]
     },
     "execution_count": 20,
     "metadata": {},
     "output_type": "execute_result"
    }
   ],
   "source": [
    "widen(ans)"
   ]
  },
  {
   "cell_type": "code",
   "execution_count": null,
   "id": "7d256002-c69f-4044-bc10-9b07ee5fef51",
   "metadata": {},
   "outputs": [],
   "source": []
  }
 ],
 "metadata": {
  "kernelspec": {
   "display_name": "Julia 1.9.0",
   "language": "julia",
   "name": "julia-1.9"
  },
  "language_info": {
   "file_extension": ".jl",
   "mimetype": "application/julia",
   "name": "julia",
   "version": "1.9.0"
  }
 },
 "nbformat": 4,
 "nbformat_minor": 5
}
