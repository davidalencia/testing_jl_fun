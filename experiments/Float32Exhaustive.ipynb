{
 "cells": [
  {
   "cell_type": "code",
   "execution_count": 1,
   "id": "c7b4b03b-51fa-4586-b935-1667bf162080",
   "metadata": {},
   "outputs": [
    {
     "name": "stderr",
     "output_type": "stream",
     "text": [
      "\u001b[32m\u001b[1m  Activating\u001b[22m\u001b[39m project at `~/Documents/Academia/taylor/ElementalFunctionsTests`\n",
      "\u001b[36m\u001b[1m[ \u001b[22m\u001b[39m\u001b[36m\u001b[1mInfo: \u001b[22m\u001b[39mPrecompiling ElementalFunctionsTests [d4cb4dc5-4b71-4e54-85a0-20ff967ef3c3]\n"
     ]
    }
   ],
   "source": [
    "using Pkg\n",
    "Pkg.activate(\"..\")\n",
    "using ElementalFunctionsTests"
   ]
  },
  {
   "cell_type": "code",
   "execution_count": 2,
   "id": "6afdb1ae-70f1-4577-bd56-2fb357a4014d",
   "metadata": {},
   "outputs": [
    {
     "ename": "LoadError",
     "evalue": "could not load library \"./clibs/checklib\"\ndlopen(./clibs/checklib.dylib, 0x0001): tried: './clibs/checklib.dylib' (no such file), '/System/Volumes/Preboot/Cryptexes/OS./clibs/checklib.dylib' (no such file), '/Applications/Julia-1.9.app/Contents/Resources/julia/lib/julia/./clibs/checklib.dylib' (no such file), '/Applications/Julia-1.9.app/Contents/Resources/julia/lib/julia/.././clibs/checklib.dylib' (no such file), '/Applications/Julia-1.9.app/Contents/Resources/julia/lib/./clibs/checklib.dylib' (no such file), '/usr/lib/./clibs/checklib.dylib' (no such file, not in dyld cache), './clibs/checklib.dylib' (no such file)",
     "output_type": "error",
     "traceback": [
      "could not load library \"./clibs/checklib\"\ndlopen(./clibs/checklib.dylib, 0x0001): tried: './clibs/checklib.dylib' (no such file), '/System/Volumes/Preboot/Cryptexes/OS./clibs/checklib.dylib' (no such file), '/Applications/Julia-1.9.app/Contents/Resources/julia/lib/julia/./clibs/checklib.dylib' (no such file), '/Applications/Julia-1.9.app/Contents/Resources/julia/lib/julia/.././clibs/checklib.dylib' (no such file), '/Applications/Julia-1.9.app/Contents/Resources/julia/lib/./clibs/checklib.dylib' (no such file), '/usr/lib/./clibs/checklib.dylib' (no such file, not in dyld cache), './clibs/checklib.dylib' (no such file)",
      "",
      "Stacktrace:",
      " [1] distance2inf(x::Float64)",
      "   @ ElementalFunctionsTests ~/Documents/Academia/taylor/ElementalFunctionsTests/src/zimmermannInterface.jl:9",
      " [2] top-level scope",
      "   @ In[2]:1"
     ]
    }
   ],
   "source": [
    "distance2inf(prevfloat(Inf))"
   ]
  },
  {
   "cell_type": "code",
   "execution_count": null,
   "id": "ba0cb391-f799-4f83-a7d7-efb4c6753a2e",
   "metadata": {},
   "outputs": [],
   "source": []
  },
  {
   "cell_type": "code",
   "execution_count": null,
   "id": "90cf2536-475b-4a8d-acd4-310de229a628",
   "metadata": {},
   "outputs": [],
   "source": []
  }
 ],
 "metadata": {
  "kernelspec": {
   "display_name": "Julia 1.9.0",
   "language": "julia",
   "name": "julia-1.9"
  },
  "language_info": {
   "file_extension": ".jl",
   "mimetype": "application/julia",
   "name": "julia",
   "version": "1.9.0"
  }
 },
 "nbformat": 4,
 "nbformat_minor": 5
}
