{
 "cells": [
  {
   "cell_type": "code",
   "execution_count": 1,
   "id": "3f031b78-b89b-42c6-b6dd-4e0ce0116856",
   "metadata": {},
   "outputs": [
    {
     "name": "stderr",
     "output_type": "stream",
     "text": [
      "\u001b[32m\u001b[1m  Activating\u001b[22m\u001b[39m project at `~/Documents/Academia/taylor/ElementalFunctionsTests`\n"
     ]
    }
   ],
   "source": [
    "using Pkg\n",
    "Pkg.activate(\"..\")\n",
    "using ElementalFunctionsTests"
   ]
  },
  {
   "cell_type": "code",
   "execution_count": 2,
   "id": "d09c7261-135d-46e9-9aed-80df07afb148",
   "metadata": {},
   "outputs": [],
   "source": [
    "using ProgressMeter\n",
    "using JSON\n",
    "using Printf"
   ]
  },
  {
   "cell_type": "code",
   "execution_count": 3,
   "id": "5455e4a7-36d9-46f8-8a75-59847c2b2566",
   "metadata": {},
   "outputs": [],
   "source": [
    "JSON.lower(e::Error) =Dict(:x=>@sprintf(\"%a\", e.x), :err=>e.err)"
   ]
  },
  {
   "cell_type": "code",
   "execution_count": 4,
   "id": "086d9fe0-11f7-4dcd-bed9-83de26b7db67",
   "metadata": {},
   "outputs": [
    {
     "data": {
      "text/plain": [
       "savearray (generic function with 2 methods)"
      ]
     },
     "execution_count": 4,
     "metadata": {},
     "output_type": "execute_result"
    }
   ],
   "source": [
    "function savearray(arr, file=\"Float64Errors_FloatDistribution.json\")\n",
    "    open(file,\"w\") do f\n",
    "      write(f, JSON.json(arr))\n",
    "    end\n",
    "end"
   ]
  },
  {
   "cell_type": "code",
   "execution_count": 7,
   "id": "95d2a267-411d-4355-8e90-9cfc0187ec9f",
   "metadata": {},
   "outputs": [
    {
     "name": "stderr",
     "output_type": "stream",
     "text": [
      "\u001b[32mcos 100%|████████████████████████████████████████████████| Time: 0:16:04\u001b[39m\n",
      "\u001b[32msin 100%|████████████████████████████████████████████████| Time: 0:17:52\u001b[39m\n",
      "\u001b[32mtan 100%|████████████████████████████████████████████████| Time: 0:19:52\u001b[39m\n",
      "\u001b[32mcospi 100%|██████████████████████████████████████████████| Time: 0:06:33\u001b[39m\n",
      "\u001b[32msinpi 100%|██████████████████████████████████████████████| Time: 0:10:53\u001b[39m\n",
      "\u001b[32macos 100%|███████████████████████████████████████████████| Time: 0:16:31\u001b[39m\n",
      "\u001b[32masin 100%|███████████████████████████████████████████████| Time: 0:06:38\u001b[39m\n",
      "\u001b[32matan 100%|███████████████████████████████████████████████| Time: 0:14:57\u001b[39m\n",
      "\u001b[32mcsc 100%|████████████████████████████████████████████████| Time: 0:34:02\u001b[39m\n",
      "\u001b[32msec 100%|████████████████████████████████████████████████| Time: 0:24:43\u001b[39m\n",
      "\u001b[32mcot 100%|████████████████████████████████████████████████| Time: 0:23:59\u001b[39m\n",
      "\u001b[32mcosh 100%|███████████████████████████████████████████████| Time: 0:03:15\u001b[39m\n",
      "\u001b[32msinh 100%|███████████████████████████████████████████████| Time: 0:04:14\u001b[39m\n",
      "\u001b[32mtanh 100%|███████████████████████████████████████████████| Time: 0:04:22\u001b[39m\n",
      "\u001b[32macosh 100%|██████████████████████████████████████████████| Time: 0:43:51\u001b[39m\n",
      "\u001b[32masinh 100%|██████████████████████████████████████████████| Time: 0:26:45\u001b[39m\n",
      "\u001b[32matanh 100%|██████████████████████████████████████████████| Time: 0:03:38\u001b[39m\n",
      "\u001b[32mexp 100%|████████████████████████████████████████████████| Time: 0:03:52\u001b[39m\n",
      "\u001b[32mexpm1 100%|██████████████████████████████████████████████| Time: 0:04:45\u001b[39m\n",
      "\u001b[32mexp2 100%|███████████████████████████████████████████████| Time: 0:08:36\u001b[39m\n",
      "\u001b[32mexp10 100%|██████████████████████████████████████████████| Time: 0:21:34\u001b[39m\n",
      "\u001b[32mlog 100%|████████████████████████████████████████████████| Time: 0:59:22\u001b[39m\n",
      "\u001b[32mlog2 100%|███████████████████████████████████████████████| Time: 7:31:14\u001b[39m\n",
      "\u001b[32mlog10 100%|██████████████████████████████████████████████| Time: 2:33:44\u001b[39m\n",
      "\u001b[32mlog1p 100%|██████████████████████████████████████████████| Time: 0:15:41\u001b[39m\n"
     ]
    }
   ],
   "source": [
    "errors = []\n",
    "for f in mpfrfunctions_symbol\n",
    "  push!(errors, testRandomBatch(f, FloatingDistribution(domain(f)...), batchSize=1_000_000_000))\n",
    "  savearray(errors)\n",
    "end"
   ]
  },
  {
   "cell_type": "code",
   "execution_count": null,
   "id": "fddd280b-0f7e-45db-8d16-9553dba37548",
   "metadata": {},
   "outputs": [],
   "source": []
  }
 ],
 "metadata": {
  "kernelspec": {
   "display_name": "Julia 1.9.0",
   "language": "julia",
   "name": "julia-1.9"
  },
  "language_info": {
   "file_extension": ".jl",
   "mimetype": "application/julia",
   "name": "julia",
   "version": "1.9.0"
  }
 },
 "nbformat": 4,
 "nbformat_minor": 5
}
