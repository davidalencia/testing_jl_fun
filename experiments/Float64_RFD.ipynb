{
 "cells": [
  {
   "cell_type": "code",
   "execution_count": 1,
   "id": "3f031b78-b89b-42c6-b6dd-4e0ce0116856",
   "metadata": {},
   "outputs": [
    {
     "name": "stderr",
     "output_type": "stream",
     "text": [
      "\u001b[32m\u001b[1m  Activating\u001b[22m\u001b[39m project at `~/Documents/Academia/taylor/ElementalFunctionsTests`\n",
      "\u001b[36m\u001b[1m[ \u001b[22m\u001b[39m\u001b[36m\u001b[1mInfo: \u001b[22m\u001b[39mPrecompiling ElementalFunctionsTests [d4cb4dc5-4b71-4e54-85a0-20ff967ef3c3]\n"
     ]
    }
   ],
   "source": [
    "using Pkg\n",
    "Pkg.activate(\"..\")\n",
    "using ElementalFunctionsTests"
   ]
  },
  {
   "cell_type": "code",
   "execution_count": 2,
   "id": "d09c7261-135d-46e9-9aed-80df07afb148",
   "metadata": {},
   "outputs": [],
   "source": [
    "using ProgressMeter\n",
    "using JSON\n",
    "using Printf"
   ]
  },
  {
   "cell_type": "code",
   "execution_count": 3,
   "id": "5455e4a7-36d9-46f8-8a75-59847c2b2566",
   "metadata": {},
   "outputs": [],
   "source": [
    "JSON.lower(e::Error) =Dict(:x=>@sprintf(\"%a\", e.x), :err=>e.err)"
   ]
  },
  {
   "cell_type": "code",
   "execution_count": 4,
   "id": "086d9fe0-11f7-4dcd-bed9-83de26b7db67",
   "metadata": {},
   "outputs": [
    {
     "data": {
      "text/plain": [
       "savearray (generic function with 2 methods)"
      ]
     },
     "execution_count": 4,
     "metadata": {},
     "output_type": "execute_result"
    }
   ],
   "source": [
    "function savearray(arr, file=\"Float64Errors_FloatDistribution.json\")\n",
    "    open(file,\"w\") do f\n",
    "      write(f, JSON.json(arr))\n",
    "    end\n",
    "end"
   ]
  },
  {
   "cell_type": "code",
   "execution_count": 5,
   "id": "95d2a267-411d-4355-8e90-9cfc0187ec9f",
   "metadata": {},
   "outputs": [
    {
     "name": "stderr",
     "output_type": "stream",
     "text": [
      "\u001b[32mcos 100%|████████████████████████████████████████████████| Time: 0:15:57\u001b[39m\n",
      "\u001b[32msin 100%|████████████████████████████████████████████████| Time: 0:17:45\u001b[39m\n",
      "\u001b[32mtan 100%|████████████████████████████████████████████████| Time: 0:19:59\u001b[39m\n",
      "\u001b[32mcospi 100%|██████████████████████████████████████████████| Time: 0:05:06\u001b[39m\n",
      "\u001b[32msinpi 100%|██████████████████████████████████████████████| Time: 0:07:13\u001b[39m\n",
      "\u001b[32macos 100%|███████████████████████████████████████████████| Time: 0:10:21\u001b[39m\n",
      "\u001b[32masin 100%|███████████████████████████████████████████████| Time: 0:04:06\u001b[39m\n",
      "\u001b[32matan 100%|███████████████████████████████████████████████| Time: 0:07:24\u001b[39m\n",
      "\u001b[32mcsc 100%|████████████████████████████████████████████████| Time: 0:21:08\u001b[39m\n",
      "\u001b[32msec 100%|████████████████████████████████████████████████| Time: 0:16:49\u001b[39m\n",
      "\u001b[32mcot 100%|████████████████████████████████████████████████| Time: 0:25:17\u001b[39m\n",
      "\u001b[32mcosh 100%|███████████████████████████████████████████████| Time: 0:03:20\u001b[39m\n",
      "\u001b[32msinh 100%|███████████████████████████████████████████████| Time: 0:04:11\u001b[39m\n",
      "\u001b[32mtanh 100%|███████████████████████████████████████████████| Time: 0:04:03\u001b[39m\n",
      "\u001b[32macosh 100%|██████████████████████████████████████████████| Time: 0:44:11\u001b[39m\n",
      "\u001b[32masinh 100%|██████████████████████████████████████████████| Time: 0:27:39\u001b[39m\n",
      "\u001b[32matanh 100%|██████████████████████████████████████████████| Time: 0:04:08\u001b[39m\n",
      "\u001b[32mexp 100%|████████████████████████████████████████████████| Time: 0:03:52\u001b[39m\n",
      "\u001b[32mexpm1 100%|██████████████████████████████████████████████| Time: 0:04:20\u001b[39m\n",
      "\u001b[32mexp2 100%|███████████████████████████████████████████████| Time: 0:04:53\u001b[39m\n",
      "\u001b[32mexp10 100%|██████████████████████████████████████████████| Time: 0:12:27\u001b[39m\n",
      "\u001b[32mlog 100%|████████████████████████████████████████████████| Time: 0:34:35\u001b[39m\n",
      "\u001b[32mlog2 100%|███████████████████████████████████████████████| Time: 0:42:09\u001b[39m\n",
      "\u001b[32mlog10 100%|██████████████████████████████████████████████| Time: 1:09:10\u001b[39m\n",
      "\u001b[32mlog1p 100%|██████████████████████████████████████████████| Time: 0:15:38\u001b[39m\n"
     ]
    }
   ],
   "source": [
    "errors = []\n",
    "for f in mpfrfunctions_symbol\n",
    "  push!(errors, testRandomBatch(f, FloatingDistribution(domain(f)...), batchSize=1_000_000_000))\n",
    "end"
   ]
  },
  {
   "cell_type": "code",
   "execution_count": 6,
   "id": "0f12e717-e24b-4ec1-ad04-c21bea07d4b2",
   "metadata": {},
   "outputs": [
    {
     "data": {
      "text/plain": [
       "16344"
      ]
     },
     "execution_count": 6,
     "metadata": {},
     "output_type": "execute_result"
    }
   ],
   "source": [
    "savearray(errors)"
   ]
  },
  {
   "cell_type": "code",
   "execution_count": null,
   "id": "76c1a381-c756-49df-8b0a-2f01a419b418",
   "metadata": {},
   "outputs": [],
   "source": []
  }
 ],
 "metadata": {
  "kernelspec": {
   "display_name": "Julia 1.9.0",
   "language": "julia",
   "name": "julia-1.9"
  },
  "language_info": {
   "file_extension": ".jl",
   "mimetype": "application/julia",
   "name": "julia",
   "version": "1.9.0"
  }
 },
 "nbformat": 4,
 "nbformat_minor": 5
}
