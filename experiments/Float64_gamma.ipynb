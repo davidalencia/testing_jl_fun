{
 "cells": [
  {
   "cell_type": "code",
   "execution_count": 1,
   "id": "00df1199-bf31-40ae-8e29-b1a48ed1d1d1",
   "metadata": {},
   "outputs": [
    {
     "name": "stderr",
     "output_type": "stream",
     "text": [
      "\u001b[32m\u001b[1m  Activating\u001b[22m\u001b[39m project at `~/Documents/Academia/taylor/ElementalFunctionsTests`\n"
     ]
    }
   ],
   "source": [
    "using Pkg\n",
    "Pkg.activate(\"..\")\n",
    "using ElementalFunctionsTests"
   ]
  },
  {
   "cell_type": "code",
   "execution_count": 2,
   "id": "d1586607-8e00-4367-9aec-427039f85181",
   "metadata": {},
   "outputs": [],
   "source": [
    "using ProgressMeter\n",
    "using JSON\n",
    "using Printf"
   ]
  },
  {
   "cell_type": "code",
   "execution_count": 3,
   "id": "b3b1b850-8980-496b-8160-7e79742d0c8c",
   "metadata": {},
   "outputs": [],
   "source": [
    "JSON.lower(e::Error) =Dict(:x=>@sprintf(\"%a\", e.x), :err=>e.err)"
   ]
  },
  {
   "cell_type": "code",
   "execution_count": 4,
   "id": "3b395a63-70aa-48d6-82a9-055a36775053",
   "metadata": {},
   "outputs": [
    {
     "data": {
      "text/plain": [
       "savearray (generic function with 2 methods)"
      ]
     },
     "execution_count": 4,
     "metadata": {},
     "output_type": "execute_result"
    }
   ],
   "source": [
    "function savearray(arr, file=\"Float64Errors_GammaSection.json\")\n",
    "    open(file,\"w\") do f\n",
    "      write(f, JSON.json(arr))\n",
    "    end\n",
    "end"
   ]
  },
  {
   "cell_type": "code",
   "execution_count": 5,
   "id": "a8238b4a-1d61-4ebb-95f1-2047ec6d28f7",
   "metadata": {},
   "outputs": [
    {
     "name": "stderr",
     "output_type": "stream",
     "text": [
      "\u001b[32mcos 100%|████████████████████████████████████████████████| Time: 0:31:27\u001b[39m\n",
      "\u001b[32msin 100%|████████████████████████████████████████████████| Time: 0:34:33\u001b[39m\n",
      "\u001b[32mtan 100%|████████████████████████████████████████████████| Time: 0:39:25\u001b[39m\n",
      "\u001b[32mcospi 100%|██████████████████████████████████████████████| Time: 0:06:06\u001b[39m\n",
      "\u001b[32msinpi 100%|██████████████████████████████████████████████| Time: 0:05:49\u001b[39m\n",
      "\u001b[32macos 100%|███████████████████████████████████████████████| Time: 1:00:17\u001b[39m\n",
      "\u001b[32masin 100%|███████████████████████████████████████████████| Time: 0:55:25\u001b[39m\n",
      "\u001b[32matan 100%|███████████████████████████████████████████████| Time: 0:09:43\u001b[39m\n",
      "\u001b[32mcsc 100%|████████████████████████████████████████████████| Time: 0:38:33\u001b[39m\n",
      "\u001b[32msec 100%|████████████████████████████████████████████████| Time: 0:33:21\u001b[39m\n",
      "\u001b[32mcot 100%|████████████████████████████████████████████████| Time: 0:44:03\u001b[39m\n",
      "\u001b[32mcosh 100%|███████████████████████████████████████████████| Time: 0:01:33\u001b[39m\n",
      "\u001b[32msinh 100%|███████████████████████████████████████████████| Time: 0:02:16\u001b[39m\n",
      "\u001b[32mtanh 100%|███████████████████████████████████████████████| Time: 0:02:20\u001b[39m\n",
      "\u001b[32macosh 100%|██████████████████████████████████████████████| Time: 0:41:22\u001b[39m\n",
      "\u001b[32masinh 100%|██████████████████████████████████████████████| Time: 0:41:56\u001b[39m\n",
      "\u001b[32matanh 100%|██████████████████████████████████████████████| Time: 0:50:11\u001b[39m\n",
      "\u001b[32mexp 100%|████████████████████████████████████████████████| Time: 0:01:09\u001b[39m\n",
      "\u001b[32mexpm1 100%|██████████████████████████████████████████████| Time: 0:01:44\u001b[39m\n",
      "\u001b[32mexp2 100%|███████████████████████████████████████████████| Time: 0:01:17\u001b[39m\n",
      "\u001b[32mexp10 100%|██████████████████████████████████████████████| Time: 0:15:00\u001b[39m\n",
      "\u001b[32mlog 100%|████████████████████████████████████████████████| Time: 0:34:24\u001b[39m\n",
      "\u001b[32mlog2 100%|███████████████████████████████████████████████| Time: 0:42:03\u001b[39m\n",
      "\u001b[32mlog10 100%|██████████████████████████████████████████████| Time: 1:09:04\u001b[39m\n",
      "\u001b[32mlog1p 100%|██████████████████████████████████████████████| Time: 0:39:44\u001b[39m\n"
     ]
    }
   ],
   "source": [
    "errors = []\n",
    "for f in mpfrfunctions_symbol\n",
    "    push!(errors, testRandomBatch(f, γSection(domain(f)...), batchSize=1_000_000_000))\n",
    "    savearray(errors)\n",
    "end"
   ]
  },
  {
   "cell_type": "code",
   "execution_count": null,
   "id": "2242d0f2-a4aa-4cee-9d6b-243bc93b4863",
   "metadata": {},
   "outputs": [],
   "source": []
  }
 ],
 "metadata": {
  "kernelspec": {
   "display_name": "Julia 1.9.0",
   "language": "julia",
   "name": "julia-1.9"
  },
  "language_info": {
   "file_extension": ".jl",
   "mimetype": "application/julia",
   "name": "julia",
   "version": "1.9.0"
  }
 },
 "nbformat": 4,
 "nbformat_minor": 5
}
